{
 "cells": [
  {
   "cell_type": "code",
   "execution_count": 2,
   "id": "df90c03d",
   "metadata": {},
   "outputs": [],
   "source": [
    "import requests\n",
    "from bs4 import BeautifulSoup"
   ]
  },
  {
   "cell_type": "code",
   "execution_count": 3,
   "id": "5afdf992",
   "metadata": {},
   "outputs": [],
   "source": [
    "main = requests.get(\"https://www.congress.gov/sponsors-cosponsors/116th-congress/senators/all\")"
   ]
  },
  {
   "cell_type": "code",
   "execution_count": 4,
   "id": "5ca6973f",
   "metadata": {},
   "outputs": [],
   "source": [
    "soup = BeautifulSoup(main.content, 'html.parser')\n",
    "#print(soup.prettify())\n",
    "main_table = soup.find(class_=\"table-wrapper\")\n",
    "#print(main_table.prettify())"
   ]
  },
  {
   "cell_type": "code",
   "execution_count": 6,
   "id": "f28d816f",
   "metadata": {},
   "outputs": [
    {
     "name": "stdout",
     "output_type": "stream",
     "text": [
      "['https://www.congress.gov/member/lamar-alexander/A000360', 'https://www.congress.gov/member/tammy-baldwin/B001230', 'https://www.congress.gov/member/john-barrasso/B001261', 'https://www.congress.gov/member/michael-bennet/B001267', 'https://www.congress.gov/member/marsha-blackburn/B001243', 'https://www.congress.gov/member/richard-blumenthal/B001277', 'https://www.congress.gov/member/roy-blunt/B000575', 'https://www.congress.gov/member/cory-booker/B001288', 'https://www.congress.gov/member/john-boozman/B001236', 'https://www.congress.gov/member/mike-braun/B001310', 'https://www.congress.gov/member/sherrod-brown/B000944', 'https://www.congress.gov/member/richard-burr/B001135', 'https://www.congress.gov/member/maria-cantwell/C000127', 'https://www.congress.gov/member/shelley-capito/C001047', 'https://www.congress.gov/member/ben-cardin/C000141', 'https://www.congress.gov/member/thomas-carper/C000174', 'https://www.congress.gov/member/bob-casey/C001070', 'https://www.congress.gov/member/bill-cassidy/C001075', 'https://www.congress.gov/member/susan-collins/C001035', 'https://www.congress.gov/member/christopher-coons/C001088', 'https://www.congress.gov/member/john-cornyn/C001056', 'https://www.congress.gov/member/catherine-cortez-masto/C001113', 'https://www.congress.gov/member/tom-cotton/C001095', 'https://www.congress.gov/member/kevin-cramer/C001096', 'https://www.congress.gov/member/mike-crapo/C000880', 'https://www.congress.gov/member/ted-cruz/C001098', 'https://www.congress.gov/member/steve-daines/D000618', 'https://www.congress.gov/member/tammy-duckworth/D000622', 'https://www.congress.gov/member/richard-durbin/D000563', 'https://www.congress.gov/member/michael-enzi/E000285', 'https://www.congress.gov/member/joni-ernst/E000295', 'https://www.congress.gov/member/dianne-feinstein/F000062', 'https://www.congress.gov/member/deb-fischer/F000463', 'https://www.congress.gov/member/cory-gardner/G000562', 'https://www.congress.gov/member/kirsten-gillibrand/G000555', 'https://www.congress.gov/member/lindsey-graham/G000359', 'https://www.congress.gov/member/charles-grassley/G000386', 'https://www.congress.gov/member/kamala-harris/H001075', 'https://www.congress.gov/member/maggie-hassan/H001076', 'https://www.congress.gov/member/josh-hawley/H001089', 'https://www.congress.gov/member/martin-heinrich/H001046', 'https://www.congress.gov/member/mazie-hirono/H001042', 'https://www.congress.gov/member/john-hoeven/H001061', 'https://www.congress.gov/member/cindy-hyde-smith/H001079', 'https://www.congress.gov/member/jim-inhofe/I000024', 'https://www.congress.gov/member/johnny-isakson/I000055', 'https://www.congress.gov/member/ron-johnson/J000293', 'https://www.congress.gov/member/doug-jones/J000300', 'https://www.congress.gov/member/timothy-kaine/K000384', 'https://www.congress.gov/member/mark-kelly/K000377', 'https://www.congress.gov/member/john-kennedy/K000393', 'https://www.congress.gov/member/angus-king/K000383', 'https://www.congress.gov/member/amy-klobuchar/K000367', 'https://www.congress.gov/member/james-lankford/L000575', 'https://www.congress.gov/member/patrick-leahy/L000174', 'https://www.congress.gov/member/mike-lee/L000577', 'https://www.congress.gov/member/kelly-loeffler/L000594', 'https://www.congress.gov/member/joseph-manchin/M001183', 'https://www.congress.gov/member/edward-markey/M000133', 'https://www.congress.gov/member/mitch-mcconnell/M000355', 'https://www.congress.gov/member/martha-mcsally/M001197', 'https://www.congress.gov/member/robert-menendez/M000639', 'https://www.congress.gov/member/jeff-merkley/M001176', 'https://www.congress.gov/member/jerry-moran/M000934', 'https://www.congress.gov/member/lisa-murkowski/M001153', 'https://www.congress.gov/member/christopher-murphy/M001169', 'https://www.congress.gov/member/patty-murray/M001111', 'https://www.congress.gov/member/rand-paul/P000603', 'https://www.congress.gov/member/david-perdue/P000612', 'https://www.congress.gov/member/gary-peters/P000595', 'https://www.congress.gov/member/rob-portman/P000449', 'https://www.congress.gov/member/john-reed/R000122', 'https://www.congress.gov/member/james-risch/R000584', 'https://www.congress.gov/member/pat-roberts/R000307', 'https://www.congress.gov/member/mitt-romney/R000615', 'https://www.congress.gov/member/jacklyn-rosen/R000608', 'https://www.congress.gov/member/mike-rounds/R000605', 'https://www.congress.gov/member/marco-rubio/R000595', 'https://www.congress.gov/member/bernard-sanders/S000033', 'https://www.congress.gov/member/ben-sasse/S001197', 'https://www.congress.gov/member/brian-schatz/S001194', 'https://www.congress.gov/member/charles-schumer/S000148', 'https://www.congress.gov/member/rick-scott/S001217', 'https://www.congress.gov/member/tim-scott/S001184', 'https://www.congress.gov/member/jeanne-shaheen/S001181', 'https://www.congress.gov/member/richard-shelby/S000320', 'https://www.congress.gov/member/kyrsten-sinema/S001191', 'https://www.congress.gov/member/tina-smith/S001203', 'https://www.congress.gov/member/debbie-stabenow/S000770', 'https://www.congress.gov/member/dan-sullivan/S001198', 'https://www.congress.gov/member/jon-tester/T000464', 'https://www.congress.gov/member/john-thune/T000250', 'https://www.congress.gov/member/thomas-tillis/T000476', 'https://www.congress.gov/member/patrick-toomey/T000461', 'https://www.congress.gov/member/tom-udall/U000039', 'https://www.congress.gov/member/chris-van-hollen/V000128', 'https://www.congress.gov/member/mark-warner/W000805', 'https://www.congress.gov/member/elizabeth-warren/W000817', 'https://www.congress.gov/member/sheldon-whitehouse/W000802', 'https://www.congress.gov/member/roger-wicker/W000437', 'https://www.congress.gov/member/ron-wyden/W000779', 'https://www.congress.gov/member/todd-young/Y000064']\n",
      "102\n"
     ]
    }
   ],
   "source": [
    "senator_names = []\n",
    "senator_names_links = []\n",
    "\n",
    "senator_dict = {}\n",
    "senators_dicts = {}\n",
    "\n",
    "for senator in main_table.find_all('tr'):\n",
    "    #print(senator.prettify())\n",
    "    for name in senator.find_all('td', {\"data-text\": True}):\n",
    "        senator_dict = {}\n",
    "        senator_names.append(name.get_text())\n",
    "        senator_dict.update({'name':name.get_text()})\n",
    "        senator_names_links.append(\"https://www.congress.gov\"+ name.find(\"a\")['href'])\n",
    "        senator_dict.update({'link':\"https://www.congress.gov\"+ name.find(\"a\")['href']})\n",
    "        senators_dicts.update({name.get_text():senator_dict})\n",
    "\n",
    "print(senator_names_links)\n",
    "print(len(senator_names_links))"
   ]
  },
  {
   "cell_type": "code",
   "execution_count": 32,
   "id": "8b4539a2",
   "metadata": {},
   "outputs": [
    {
     "name": "stdout",
     "output_type": "stream",
     "text": [
      "https://www.congress.gov/member/sherrod-brown/B000944?q=%7B\"sponsorship\"%3A\"sponsored\"%2C\"bill-status\"%3A\"law\"%7D\n"
     ]
    }
   ],
   "source": [
    "#Prueba para ver la logica para cada senador\n",
    "\n",
    "branch_senator_sponsored = requests.get(senator_names_links[10]+'?q=%7B\"sponsorship\"%3A\"sponsored\"%2C\"bill-status\"%3A\"law\"%7D')\n",
    "print(senator_names_links[10]+'?q=%7B\"sponsorship\"%3A\"sponsored\"%2C\"bill-status\"%3A\"law\"%7D')\n",
    "\n",
    "senator_soup = BeautifulSoup(branch_senator_sponsored.content, 'html.parser')\n"
   ]
  },
  {
   "cell_type": "code",
   "execution_count": 34,
   "id": "38162d4e",
   "metadata": {},
   "outputs": [
    {
     "name": "stdout",
     "output_type": "stream",
     "text": [
      "https://www.congress.gov/bill/112th-congress/senate-bill/349?s=1&r=4\n"
     ]
    }
   ],
   "source": [
    "senator_bill_table = senator_soup.find_all('ol', class_=\"basic-search-results-lists expanded-view\")\n",
    "\n",
    "senator_bills = []\n",
    "\n",
    "for bills in senator_bill_table:\n",
    "    #print(bills.get_text())\n",
    "    for bill in bills.find_all('li', class_=\"expanded\"):\n",
    "        #print(bill.get_text())\n",
    "        senator_bills.append(\"https://www.congress.gov\"+bill.find('span', class_=\"result-heading\").find('a')['href'])\n",
    "\n",
    "#print(len(senator_bill_table))\n",
    "\n",
    "print(senator_bills[3])\n",
    "\n",
    "#print(senators_dicts[senator_names[21]]['link'])\n",
    "\n",
    "#print(senators_dicts)\n",
    "\n"
   ]
  },
  {
   "cell_type": "code",
   "execution_count": null,
   "id": "e42f7540",
   "metadata": {},
   "outputs": [],
   "source": []
  }
 ],
 "metadata": {
  "kernelspec": {
   "display_name": "Python 3",
   "language": "python",
   "name": "python3"
  },
  "language_info": {
   "codemirror_mode": {
    "name": "ipython",
    "version": 3
   },
   "file_extension": ".py",
   "mimetype": "text/x-python",
   "name": "python",
   "nbconvert_exporter": "python",
   "pygments_lexer": "ipython3",
   "version": "3.8.8"
  }
 },
 "nbformat": 4,
 "nbformat_minor": 5
}
